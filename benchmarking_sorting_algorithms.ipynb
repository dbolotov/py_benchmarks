{
 "metadata": {
  "name": "",
  "signature": "sha256:a18121c6ce4b0c13ef594750f397e2c873f5f230653e408fc875b8e4f6ec35fe"
 },
 "nbformat": 3,
 "nbformat_minor": 0,
 "worksheets": [
  {
   "cells": [
    {
     "cell_type": "heading",
     "level": 1,
     "metadata": {},
     "source": [
      "Benchmarking sorting algorithms with ipython"
     ]
    },
    {
     "cell_type": "markdown",
     "metadata": {},
     "source": [
      "Benchmarking a few sorting algorithms using ipython's `timeit` function, with `pandas` and `ggplot` libraries for result presentation.\n",
      "\n",
      "Tests are run on reverse-ordered integer lists of increasing size.\n",
      "\n",
      "The following are tested:\n",
      "\n",
      "- Bubble sort\n",
      "- Selection Sort\n",
      "- Insertion Sort\n",
      "\n",
      "Algorithms are coded as described in this awesome [interactive python course](http://interactivepython.org/runestone/static/pythonds/index.html).\n",
      "\n",
      "```\n",
      "TODO:\n",
      "- Shell Sort\n",
      "- Merge Sort\n",
      "- Quick Sort\n",
      "- get around ggplot's lack of legend support\n",
      "```"
     ]
    },
    {
     "cell_type": "code",
     "collapsed": false,
     "input": [
      "import timeit\n",
      "from ggplot import *\n",
      "import pandas as pd"
     ],
     "language": "python",
     "metadata": {},
     "outputs": [],
     "prompt_number": 1
    },
    {
     "cell_type": "heading",
     "level": 3,
     "metadata": {},
     "source": [
      "Define algorithms"
     ]
    },
    {
     "cell_type": "code",
     "collapsed": false,
     "input": [
      "def bubble(alist):\n",
      "    for passnum in range(len(alist)-1,0,-1):\n",
      "        for i in range(passnum):\n",
      "            if alist[i] > alist[i+1]:\n",
      "                alist[i],alist[i+1] = alist[i+1],alist[i]\n",
      "\n",
      "def insertion(alist):\n",
      "    for index in range(1,len(alist)):\n",
      "        currentvalue = alist[index]\n",
      "        position = index\n",
      "        while position>0 and alist[position-1]>currentvalue:\n",
      "            alist[position] = alist[position-1]\n",
      "            position -= 1\n",
      "        alist[position] = currentvalue\n",
      "\n",
      "def selection(alist):\n",
      "    for fillslot in range(len(alist)-1,0,-1):\n",
      "        positionOfMax=0\n",
      "        for location in range(1,fillslot+1):\n",
      "            if alist[location]>alist[positionOfMax]:\n",
      "                positionOfMax = location\n",
      "        alist[fillslot],alist[positionOfMax] = alist[positionOfMax],alist[fillslot]\n",
      "\n",
      "def shell(alist):\n",
      "    sublistcount = len(alist)//2\n",
      "\n",
      "    while sublistcount > 0:\n",
      "        for startposition in range(sublistcount):\n",
      "            gapInsertionSort(alist,startposition,sublistcount)\n",
      "        sublistcount = sublistcount // 2\n",
      "\n",
      "def gapInsertionSort(alist, start, gap):\n",
      "    for i in range(start+gap, len(alist), gap):\n",
      "        currentvalue = alist[i]\n",
      "        position = i\n",
      "\n",
      "        while position >= gap and alist[position-gap] > currentvalue:\n",
      "            alist[position] = alist[position-gap]\n",
      "            position = position-gap\n",
      "\n",
      "        alist[position] = currentvalue"
     ],
     "language": "python",
     "metadata": {},
     "outputs": [],
     "prompt_number": 2
    },
    {
     "cell_type": "heading",
     "level": 3,
     "metadata": {},
     "source": [
      "Set up and tests"
     ]
    },
    {
     "cell_type": "code",
     "collapsed": false,
     "input": [
      "algs = ['bubble', 'insertion', 'selection', 'shell']\n",
      "times = {x:[] for x in algs}\n",
      "\n",
      "int_lists = [range(500*y,0,-1) for y in range(6)]\n",
      "int_lists_lengths = [len(x) for x in int_lists]\n",
      "\n",
      "for li in int_lists:\n",
      "    for f in algs:\n",
      "        times[f].append(min(timeit.Timer('%s(li)' %f, 'from __main__ import %s, li' %f)\n",
      "                            .repeat(repeat=3, number=10)))\n",
      "\n",
      "times_frame = pd.DataFrame(times)\n",
      "times_frame.insert(0,'list size',int_lists_lengths)"
     ],
     "language": "python",
     "metadata": {},
     "outputs": [],
     "prompt_number": 4
    },
    {
     "cell_type": "heading",
     "level": 3,
     "metadata": {},
     "source": [
      "Results"
     ]
    },
    {
     "cell_type": "code",
     "collapsed": false,
     "input": [
      "print times_frame"
     ],
     "language": "python",
     "metadata": {},
     "outputs": [
      {
       "output_type": "stream",
       "stream": "stdout",
       "text": [
        "   list size    bubble  insertion  selection     shell\n",
        "0          0  0.000014   0.000005   0.000006  0.000003\n",
        "1        500  0.068459   0.000611   0.072276  0.006899\n",
        "2       1000  0.281978   0.001267   0.287480  0.015762\n",
        "3       1500  0.608196   0.001822   0.650671  0.024228\n",
        "4       2000  1.096453   0.002410   1.158951  0.032370\n",
        "5       2500  1.720361   0.003195   1.810862  0.043718\n"
       ]
      }
     ],
     "prompt_number": 5
    },
    {
     "cell_type": "code",
     "collapsed": false,
     "input": [
      "a = ggplot(times_frame, aes(\"list size\",\"bubble\"))+geom_point(color='green') + \\\n",
      "geom_point(aes(\"list size\",\"insertion\"), color = 'red') + \\\n",
      "geom_point(aes(\"list size\",\"selection\"), color = 'blue') + \\\n",
      "geom_point(aes(\"list size\", \"shell\"), color = 'violet') + \\\n",
      "ggtitle(\"sorting benchmarks\") + xlab(\"list size\") + ylab(\"time (sec)\") + \\\n",
      "scale_x_continuous(breaks=int_lists_lengths)\n",
      "a\n",
      "## plotly plot:\n",
      "# import plotly.plotly as py\n",
      "# import plotly.tools as tls\n",
      "# from plotly.graph_objs import *\n",
      "# py.sign_in(\"IPython.Demo\", \"1fw3zw2o13\")\n",
      "# fig = a.draw() \n",
      "# py.iplot_mpl(fig)"
     ],
     "language": "python",
     "metadata": {},
     "outputs": [
      {
       "metadata": {},
       "output_type": "display_data",
       "png": "[encoded data removed]",
       "text": [
        "<matplotlib.figure.Figure at 0x520ea10>"
       ]
      },
      {
       "metadata": {},
       "output_type": "pyout",
       "prompt_number": 6,
       "text": [
        "<ggplot: (5379825)>"
       ]
      }
     ],
     "prompt_number": 6
    },
    {
     "cell_type": "markdown",
     "metadata": {},
     "source": [
      "Insertion sort looks to be the fastest."
     ]
    }
   ],
   "metadata": {}
  }
 ]
}