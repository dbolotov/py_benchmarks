{
 "metadata": {
  "name": "",
  "signature": "sha256:90f715eb46513585d6bdec64be56e16584b2790fa6bb4a3e3bc71c9b82d6be5e"
 },
 "nbformat": 3,
 "nbformat_minor": 0,
 "worksheets": [
  {
   "cells": [
    {
     "cell_type": "heading",
     "level": 1,
     "metadata": {},
     "source": [
      "Benchmarking sorting algorithms with ipython"
     ]
    },
    {
     "cell_type": "markdown",
     "metadata": {},
     "source": [
      "Benchmarking a few sorting algorithms using ipython's `timeit` function, with `pandas` and `ggplot` libraries for result presentation.\n",
      "\n",
      "Tests are run on reverse-ordered integer lists of increasing size.\n",
      "\n",
      "The following are tested:\n",
      "\n",
      "- Bubble sort\n",
      "- Selection Sort\n",
      "- Insertion Sort\n",
      "- Shell Sort\n",
      "- Merge Sort\n",
      "- Quick Sort\n",
      "\n",
      "Algorithms are coded as described in this awesome [interactive python course](http://interactivepython.org/runestone/static/pythonds/index.html)."
     ]
    },
    {
     "cell_type": "code",
     "collapsed": false,
     "input": [
      "import timeit\n",
      "from ggplot import *\n",
      "import pandas as pd\n",
      "from math import log10"
     ],
     "language": "python",
     "metadata": {},
     "outputs": [],
     "prompt_number": 1
    },
    {
     "cell_type": "heading",
     "level": 3,
     "metadata": {},
     "source": [
      "Define algorithms"
     ]
    },
    {
     "cell_type": "code",
     "collapsed": false,
     "input": [
      "def bubble(alist):\n",
      "    for passnum in range(len(alist)-1,0,-1):\n",
      "        for i in range(passnum):\n",
      "            if alist[i] > alist[i+1]:\n",
      "                alist[i],alist[i+1] = alist[i+1],alist[i]\n",
      "\n",
      "                \n",
      "def insertion(alist):\n",
      "    for index in range(1,len(alist)):\n",
      "        currentvalue = alist[index]\n",
      "        position = index\n",
      "        while position>0 and alist[position-1]>currentvalue:\n",
      "            alist[position] = alist[position-1]\n",
      "            position -= 1\n",
      "        alist[position] = currentvalue\n",
      "\n",
      "        \n",
      "def selection(alist):\n",
      "    for fillslot in range(len(alist)-1,0,-1):\n",
      "        positionOfMax=0\n",
      "        for location in range(1,fillslot+1):\n",
      "            if alist[location]>alist[positionOfMax]:\n",
      "                positionOfMax = location\n",
      "        alist[fillslot],alist[positionOfMax] = alist[positionOfMax],alist[fillslot]\n",
      "\n",
      "        \n",
      "def shell(alist):\n",
      "    sublistcount = len(alist)//2\n",
      "\n",
      "    while sublistcount > 0:\n",
      "        for startposition in range(sublistcount):\n",
      "            gapInsertionSort(alist,startposition,sublistcount)\n",
      "        sublistcount = sublistcount // 2\n",
      "\n",
      "        \n",
      "def gapInsertionSort(alist, start, gap):\n",
      "    for i in range(start+gap, len(alist), gap):\n",
      "        currentvalue = alist[i]\n",
      "        position = i\n",
      "\n",
      "        while position >= gap and alist[position-gap] > currentvalue:\n",
      "            alist[position] = alist[position-gap]\n",
      "            position = position-gap\n",
      "\n",
      "        alist[position] = currentvalue\n",
      "\n",
      "        \n",
      "def merge(alist):\n",
      "    if len(alist)>1:\n",
      "        mid = len(alist)//2\n",
      "        lefthalf = alist[:mid]\n",
      "        righthalf = alist[mid:]\n",
      "\n",
      "        merge(lefthalf)\n",
      "        merge(righthalf)\n",
      "\n",
      "        i,j,k = 0,0,0\n",
      "\n",
      "        while i<len(lefthalf) and j<len(righthalf):\n",
      "            if lefthalf[i]<righthalf[j]:\n",
      "                alist[k]=lefthalf[i]\n",
      "                i=i+1\n",
      "            else:\n",
      "                alist[k]=righthalf[j]\n",
      "                j=j+1\n",
      "            k=k+1\n",
      "\n",
      "        while i<len(lefthalf):\n",
      "            alist[k]=lefthalf[i]\n",
      "            i=i+1\n",
      "            k=k+1\n",
      "\n",
      "        while j<len(righthalf):\n",
      "            alist[k]=righthalf[j]\n",
      "            j=j+1\n",
      "            k=k+1\n",
      "\n",
      "            \n",
      "def quick(alist):\n",
      "    quickSortHelper(alist,0,len(alist)-1)\n",
      "\n",
      "def quickSortHelper(alist,first,last):\n",
      "    if first<last:\n",
      "\n",
      "        splitpoint = partition(alist,first,last)\n",
      "\n",
      "        quickSortHelper(alist,first,splitpoint-1)\n",
      "        quickSortHelper(alist,splitpoint+1,last)\n",
      "\n",
      "def partition(alist,first,last):\n",
      "    pivotvalue = alist[first]\n",
      "\n",
      "    leftmark = first+1\n",
      "    rightmark = last\n",
      "\n",
      "    done = False\n",
      "    while not done:\n",
      "\n",
      "        while leftmark <= rightmark and alist[leftmark] <= pivotvalue:\n",
      "            leftmark = leftmark + 1\n",
      "\n",
      "        while alist[rightmark] >= pivotvalue and rightmark >= leftmark:\n",
      "            rightmark = rightmark -1\n",
      "\n",
      "        if rightmark < leftmark:\n",
      "            done = True\n",
      "        else:\n",
      "            alist[leftmark],alist[rightmark]=alist[rightmark],alist[leftmark]\n",
      "\n",
      "    alist[first],alist[rightmark]=alist[rightmark],alist[first]\n",
      "\n",
      "    return rightmark"
     ],
     "language": "python",
     "metadata": {},
     "outputs": [],
     "prompt_number": 2
    },
    {
     "cell_type": "heading",
     "level": 3,
     "metadata": {},
     "source": [
      "Set up and tests"
     ]
    },
    {
     "cell_type": "code",
     "collapsed": false,
     "input": [
      "algs = ['bubble', 'insertion', 'selection', 'shell','merge','quick']\n",
      "times = {x:[] for x in algs}\n",
      "\n",
      "for f in algs:\n",
      "    \n",
      "    int_lists = [range(50*y,0,-1) for y in range(1,11)] #set up reverse-sorted lists of increasing size\n",
      "    int_lists_lengths = [len(x) for x in int_lists]\n",
      "    \n",
      "    for li in int_lists:\n",
      "        t = timeit.Timer('%s(li)' %f, 'from __main__ import %s, li' %f).repeat(repeat=3, number=10)\n",
      "        \n",
      "        t_max = max(t)\n",
      "        t_max_transform = log10(1000*t_max) #take log10 of the milliseconds to visually separate the plotted curves\n",
      "        \n",
      "        times[f].append(t_max_transform)\n",
      "\n",
      "times_frame = pd.DataFrame(times)\n",
      "times_frame.insert(0,'list size',int_lists_lengths)"
     ],
     "language": "python",
     "metadata": {},
     "outputs": [],
     "prompt_number": 3
    },
    {
     "cell_type": "heading",
     "level": 3,
     "metadata": {},
     "source": [
      "Results"
     ]
    },
    {
     "cell_type": "code",
     "collapsed": false,
     "input": [
      "print times_frame"
     ],
     "language": "python",
     "metadata": {},
     "outputs": [
      {
       "output_type": "stream",
       "stream": "stdout",
       "text": [
        "   list size    bubble  insertion     merge     quick  selection     shell\n",
        "0         50  0.102843  -0.688161 -0.036185  0.127771   0.019904 -0.309637\n",
        "1        100  0.550963  -0.166142  0.296209  0.652928   0.488838  0.065226\n",
        "2        150  0.877947   0.159598  0.553634  0.977267   0.837772  0.269769\n",
        "3        200  1.111692   0.414966  0.638508  1.211150   1.072068  0.448707\n",
        "4        250  1.299157   0.585351  0.752125  1.388386   1.265497  0.486581\n",
        "5        300  1.464997   0.736720  0.855589  1.550045   1.414790  0.611072\n",
        "6        350  1.597443   0.868646  0.918770  1.680987   1.553203  0.710808\n",
        "7        400  1.719008   1.010010  0.991763  1.790925   1.672458  0.745776\n",
        "8        450  1.826646   1.090427  1.061647  1.872884   1.767705  0.833539\n",
        "9        500  1.913893   1.179094  1.108969  1.986256   1.861325  0.866412\n"
       ]
      }
     ],
     "prompt_number": 4
    },
    {
     "cell_type": "code",
     "collapsed": false,
     "input": [
      "a = ggplot(times_frame, aes(\"list size\",\"bubble\"))+geom_point(color='red') + \\\n",
      "geom_point(aes(\"list size\",\"insertion\"), color = 'orange') + \\\n",
      "geom_point(aes(\"list size\",\"selection\"), color = 'yellow') + \\\n",
      "geom_point(aes(\"list size\", \"shell\"), color = 'green') + \\\n",
      "geom_point(aes(\"list size\", \"merge\"), color = 'blue') + \\\n",
      "geom_point(aes(\"list size\", \"quick\"), color = 'violet') + \\\n",
      "ggtitle(\"sorting benchmarks\") + xlab(\"list size\") + ylab(\"time (log10(msec))\") + \\\n",
      "scale_x_continuous(breaks=int_lists_lengths)\n",
      "a\n",
      "## plotly plot:\n",
      "# import plotly.plotly as py\n",
      "# import plotly.tools as tls\n",
      "# from plotly.graph_objs import *\n",
      "# py.sign_in(\"IPython.Demo\", \"1fw3zw2o13\")\n",
      "# fig = a.draw() \n",
      "# py.iplot_mpl(fig)"
     ],
     "language": "python",
     "metadata": {},
     "outputs": [
      {
       "metadata": {},
       "output_type": "display_data",
       "png": "[encoded data removed]",
       "text": [
        "<matplotlib.figure.Figure at 0x2972750>"
       ]
      },
      {
       "metadata": {},
       "output_type": "pyout",
       "prompt_number": 5,
       "text": [
        "<ggplot: (5086225)>"
       ]
      }
     ],
     "prompt_number": 5
    },
    {
     "cell_type": "markdown",
     "metadata": {},
     "source": [
      "Insertion sort looks to be the fastest for lists of less than 250 items.\n",
      "Shell sort becomes the fastest for 250 items or more.\n",
      "(the ggplot python library does not yet properly support legends, as of 09/2014)."
     ]
    }
   ],
   "metadata": {}
  }
 ]
}