{
 "metadata": {
  "name": "",
  "signature": "sha256:f363c836ec0c64ca17b282142b460b10482bee89900b5e3752d12e690e429ae0"
 },
 "nbformat": 3,
 "nbformat_minor": 0,
 "worksheets": [
  {
   "cells": [
    {
     "cell_type": "heading",
     "level": 1,
     "metadata": {},
     "source": [
      "Benchmarking sorting algorithms with ipython"
     ]
    },
    {
     "cell_type": "markdown",
     "metadata": {},
     "source": [
      "Benchmarking a few sorting algorithms using ipython's `timeit` function, with `pandas` and `ggplot` libraries for result presentation.\n",
      "\n",
      "Tests are run on reverse-ordered integer lists of increasing size.\n",
      "\n",
      "The following are tested:\n",
      "\n",
      "- Bubble sort\n",
      "- Selection Sort\n",
      "- Insertion Sort\n",
      "- Shell Sort\n",
      "- Merge Sort\n",
      "- Quick Sort\n",
      "\n",
      "Algorithms are coded as described in this awesome [interactive python course](http://interactivepython.org/runestone/static/pythonds/index.html)."
     ]
    },
    {
     "cell_type": "code",
     "collapsed": false,
     "input": [
      "import timeit\n",
      "from ggplot import *\n",
      "import pandas as pd\n",
      "from math import log10"
     ],
     "language": "python",
     "metadata": {},
     "outputs": [],
     "prompt_number": 1
    },
    {
     "cell_type": "heading",
     "level": 3,
     "metadata": {},
     "source": [
      "Define algorithms"
     ]
    },
    {
     "cell_type": "code",
     "collapsed": false,
     "input": [
      "def bubble(alist):\n",
      "    for passnum in range(len(alist)-1,0,-1):\n",
      "        for i in range(passnum):\n",
      "            if alist[i] > alist[i+1]:\n",
      "                alist[i],alist[i+1] = alist[i+1],alist[i]\n",
      "\n",
      "                \n",
      "def insertion(alist):\n",
      "    for index in range(1,len(alist)):\n",
      "        currentvalue = alist[index]\n",
      "        position = index\n",
      "        while position>0 and alist[position-1]>currentvalue:\n",
      "            alist[position] = alist[position-1]\n",
      "            position -= 1\n",
      "        alist[position] = currentvalue\n",
      "\n",
      "        \n",
      "def selection(alist):\n",
      "    for fillslot in range(len(alist)-1,0,-1):\n",
      "        positionOfMax=0\n",
      "        for location in range(1,fillslot+1):\n",
      "            if alist[location]>alist[positionOfMax]:\n",
      "                positionOfMax = location\n",
      "        alist[fillslot],alist[positionOfMax] = alist[positionOfMax],alist[fillslot]\n",
      "\n",
      "        \n",
      "def shell(alist):\n",
      "    sublistcount = len(alist)//2\n",
      "\n",
      "    while sublistcount > 0:\n",
      "        for startposition in range(sublistcount):\n",
      "            gapInsertionSort(alist,startposition,sublistcount)\n",
      "        sublistcount = sublistcount // 2\n",
      "\n",
      "        \n",
      "def gapInsertionSort(alist, start, gap):\n",
      "    for i in range(start+gap, len(alist), gap):\n",
      "        currentvalue = alist[i]\n",
      "        position = i\n",
      "\n",
      "        while position >= gap and alist[position-gap] > currentvalue:\n",
      "            alist[position] = alist[position-gap]\n",
      "            position = position-gap\n",
      "\n",
      "        alist[position] = currentvalue\n",
      "\n",
      "        \n",
      "def merge(alist):\n",
      "    if len(alist)>1:\n",
      "        mid = len(alist)//2\n",
      "        lefthalf = alist[:mid]\n",
      "        righthalf = alist[mid:]\n",
      "\n",
      "        merge(lefthalf)\n",
      "        merge(righthalf)\n",
      "\n",
      "        i,j,k = 0,0,0\n",
      "\n",
      "        while i<len(lefthalf) and j<len(righthalf):\n",
      "            if lefthalf[i]<righthalf[j]:\n",
      "                alist[k]=lefthalf[i]\n",
      "                i=i+1\n",
      "            else:\n",
      "                alist[k]=righthalf[j]\n",
      "                j=j+1\n",
      "            k=k+1\n",
      "\n",
      "        while i<len(lefthalf):\n",
      "            alist[k]=lefthalf[i]\n",
      "            i=i+1\n",
      "            k=k+1\n",
      "\n",
      "        while j<len(righthalf):\n",
      "            alist[k]=righthalf[j]\n",
      "            j=j+1\n",
      "            k=k+1\n",
      "\n",
      "            \n",
      "def quick(alist):\n",
      "    quickSortHelper(alist,0,len(alist)-1)\n",
      "\n",
      "def quickSortHelper(alist,first,last):\n",
      "    if first<last:\n",
      "\n",
      "        splitpoint = partition(alist,first,last)\n",
      "\n",
      "        quickSortHelper(alist,first,splitpoint-1)\n",
      "        quickSortHelper(alist,splitpoint+1,last)\n",
      "\n",
      "def partition(alist,first,last):\n",
      "    pivotvalue = alist[first]\n",
      "\n",
      "    leftmark = first+1\n",
      "    rightmark = last\n",
      "\n",
      "    done = False\n",
      "    while not done:\n",
      "\n",
      "        while leftmark <= rightmark and alist[leftmark] <= pivotvalue:\n",
      "            leftmark = leftmark + 1\n",
      "\n",
      "        while alist[rightmark] >= pivotvalue and rightmark >= leftmark:\n",
      "            rightmark = rightmark -1\n",
      "\n",
      "        if rightmark < leftmark:\n",
      "            done = True\n",
      "        else:\n",
      "            alist[leftmark],alist[rightmark]=alist[rightmark],alist[leftmark]\n",
      "\n",
      "    alist[first],alist[rightmark]=alist[rightmark],alist[first]\n",
      "\n",
      "    return rightmark"
     ],
     "language": "python",
     "metadata": {},
     "outputs": [],
     "prompt_number": 2
    },
    {
     "cell_type": "heading",
     "level": 3,
     "metadata": {},
     "source": [
      "Set up and tests"
     ]
    },
    {
     "cell_type": "code",
     "collapsed": false,
     "input": [
      "algs = ['bubble', 'insertion', 'selection', 'shell','merge','quick']\n",
      "times = {x:[] for x in algs}\n",
      "\n",
      "int_lists = [range(50*y,0,-1) for y in range(1,11)] #set up reverse-sorted lists of increasing size\n",
      "int_lists_lengths = [len(x) for x in int_lists]\n",
      "\n",
      "for li in int_lists:\n",
      "    for f in algs:\n",
      "        t = timeit.Timer('%s(li)' %f, 'from __main__ import %s, li' %f).repeat(repeat=3, number=10)\n",
      "        t_max = max(t) #get the slowest time\n",
      "        t_max_transform = log10(1000*t_max) #take log10 of the milliseconds to make plot more spread out\n",
      "        \n",
      "        times[f].append(t_max_transform)\n",
      "\n",
      "times_frame = pd.DataFrame(times)\n",
      "times_frame.insert(0,'list size',int_lists_lengths)"
     ],
     "language": "python",
     "metadata": {},
     "outputs": [],
     "prompt_number": 3
    },
    {
     "cell_type": "heading",
     "level": 3,
     "metadata": {},
     "source": [
      "Results"
     ]
    },
    {
     "cell_type": "code",
     "collapsed": false,
     "input": [
      "print times_frame"
     ],
     "language": "python",
     "metadata": {},
     "outputs": [
      {
       "output_type": "stream",
       "stream": "stdout",
       "text": [
        "   list size    bubble  insertion     merge     quick  selection     shell\n",
        "0         50  0.326340  -0.838756  0.080287  0.399480   0.265520  0.086356\n",
        "1        100  0.734398  -0.921092  0.313854  0.616790   0.489409  0.051926\n",
        "2        150  0.915134  -0.735043  0.495406  0.973354   0.822228  0.259580\n",
        "3        200  1.163907  -0.632765  0.640574  1.178050   1.059449  0.378034\n",
        "4        250  1.354949  -0.534524  0.748500  1.361255   1.262995  0.472754\n",
        "5        300  1.563018  -0.454752  0.837396  1.520901   1.407223  0.595482\n",
        "6        350  1.648722  -0.384112  0.912444  1.650471   1.536357  0.665969\n",
        "7        400  1.764632  -0.324244  0.997205  1.777629   1.659107  0.727879\n",
        "8        450  1.869190  -0.273188  1.035790  1.876137   1.758186  0.798384\n",
        "9        500  1.958287  -0.223332  1.083973  1.958459   1.846845  0.824390\n"
       ]
      }
     ],
     "prompt_number": 4
    },
    {
     "cell_type": "code",
     "collapsed": false,
     "input": [
      "a = ggplot(times_frame, aes(\"list size\",\"bubble\"))+geom_point(color='red') + \\\n",
      "geom_point(aes(\"list size\",\"insertion\"), color = 'orange') + \\\n",
      "geom_point(aes(\"list size\",\"selection\"), color = 'yellow') + \\\n",
      "geom_point(aes(\"list size\", \"shell\"), color = 'green') + \\\n",
      "geom_point(aes(\"list size\", \"merge\"), color = 'blue') + \\\n",
      "geom_point(aes(\"list size\", \"quick\"), color = 'violet') + \\\n",
      "ggtitle(\"sorting benchmarks\") + xlab(\"list size\") + ylab(\"time (log10(msec))\") + \\\n",
      "scale_x_continuous(breaks=int_lists_lengths)\n",
      "a\n",
      "## plotly plot:\n",
      "# import plotly.plotly as py\n",
      "# import plotly.tools as tls\n",
      "# from plotly.graph_objs import *\n",
      "# py.sign_in(\"IPython.Demo\", \"1fw3zw2o13\")\n",
      "# fig = a.draw() \n",
      "# py.iplot_mpl(fig)"
     ],
     "language": "python",
     "metadata": {},
     "outputs": [
      {
       "metadata": {},
       "output_type": "display_data",
       "png": "[encoded data removed]",
       "text": [
        "<matplotlib.figure.Figure at 0x557fb10>"
       ]
      },
      {
       "metadata": {},
       "output_type": "pyout",
       "prompt_number": 5,
       "text": [
        "<ggplot: (4017097)>"
       ]
      }
     ],
     "prompt_number": 5
    },
    {
     "cell_type": "markdown",
     "metadata": {},
     "source": [
      "Insertion sort looks to be the fastest.\n",
      "(the ggplot python library does not properly support legends as of 09/2014)."
     ]
    }
   ],
   "metadata": {}
  }
 ]
}