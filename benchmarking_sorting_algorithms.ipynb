{
 "metadata": {
  "name": "",
  "signature": "sha256:96e0dd57af362cfc98b018f931852271785fb5514548044c5f0ef52b1a7d4708"
 },
 "nbformat": 3,
 "nbformat_minor": 0,
 "worksheets": [
  {
   "cells": [
    {
     "cell_type": "heading",
     "level": 1,
     "metadata": {},
     "source": [
      "Benchmarking sorting algorithms with ipython"
     ]
    },
    {
     "cell_type": "markdown",
     "metadata": {},
     "source": [
      "Benchmarking a few sorting algorithms using ipython's `timeit` function, with `pandas` and `ggplot` libraries for result presentation.\n",
      "\n",
      "Tests are run on reverse-ordered integer lists of increasing size.\n",
      "\n",
      "The following are tested:\n",
      "\n",
      "- Bubble sort\n",
      "- Selection Sort\n",
      "- Insertion Sort\n",
      "- Shell Sort\n",
      "- Merge Sort\n",
      "- Quick Sort\n",
      "\n",
      "Algorithms are coded as described in this awesome [interactive python course](http://interactivepython.org/runestone/static/pythonds/index.html)."
     ]
    },
    {
     "cell_type": "code",
     "collapsed": false,
     "input": [
      "import timeit\n",
      "from ggplot import *\n",
      "import pandas as pd\n",
      "from math import log10"
     ],
     "language": "python",
     "metadata": {},
     "outputs": [],
     "prompt_number": 6
    },
    {
     "cell_type": "heading",
     "level": 3,
     "metadata": {},
     "source": [
      "Define algorithms"
     ]
    },
    {
     "cell_type": "code",
     "collapsed": false,
     "input": [
      "def bubble(alist):\n",
      "    for passnum in range(len(alist)-1,0,-1):\n",
      "        for i in range(passnum):\n",
      "            if alist[i] > alist[i+1]:\n",
      "                alist[i],alist[i+1] = alist[i+1],alist[i]\n",
      "\n",
      "                \n",
      "def insertion(alist):\n",
      "    for index in range(1,len(alist)):\n",
      "        currentvalue = alist[index]\n",
      "        position = index\n",
      "        while position>0 and alist[position-1]>currentvalue:\n",
      "            alist[position] = alist[position-1]\n",
      "            position -= 1\n",
      "        alist[position] = currentvalue\n",
      "\n",
      "        \n",
      "def selection(alist):\n",
      "    for fillslot in range(len(alist)-1,0,-1):\n",
      "        positionOfMax=0\n",
      "        for location in range(1,fillslot+1):\n",
      "            if alist[location]>alist[positionOfMax]:\n",
      "                positionOfMax = location\n",
      "        alist[fillslot],alist[positionOfMax] = alist[positionOfMax],alist[fillslot]\n",
      "\n",
      "        \n",
      "def shell(alist):\n",
      "    sublistcount = len(alist)//2\n",
      "\n",
      "    while sublistcount > 0:\n",
      "        for startposition in range(sublistcount):\n",
      "            gapInsertionSort(alist,startposition,sublistcount)\n",
      "        sublistcount = sublistcount // 2\n",
      "\n",
      "        \n",
      "def gapInsertionSort(alist, start, gap):\n",
      "    for i in range(start+gap, len(alist), gap):\n",
      "        currentvalue = alist[i]\n",
      "        position = i\n",
      "\n",
      "        while position >= gap and alist[position-gap] > currentvalue:\n",
      "            alist[position] = alist[position-gap]\n",
      "            position = position-gap\n",
      "\n",
      "        alist[position] = currentvalue\n",
      "\n",
      "        \n",
      "def merge(alist):\n",
      "    if len(alist)>1:\n",
      "        mid = len(alist)//2\n",
      "        lefthalf = alist[:mid]\n",
      "        righthalf = alist[mid:]\n",
      "\n",
      "        merge(lefthalf)\n",
      "        merge(righthalf)\n",
      "\n",
      "        i,j,k = 0,0,0\n",
      "\n",
      "        while i<len(lefthalf) and j<len(righthalf):\n",
      "            if lefthalf[i]<righthalf[j]:\n",
      "                alist[k]=lefthalf[i]\n",
      "                i=i+1\n",
      "            else:\n",
      "                alist[k]=righthalf[j]\n",
      "                j=j+1\n",
      "            k=k+1\n",
      "\n",
      "        while i<len(lefthalf):\n",
      "            alist[k]=lefthalf[i]\n",
      "            i=i+1\n",
      "            k=k+1\n",
      "\n",
      "        while j<len(righthalf):\n",
      "            alist[k]=righthalf[j]\n",
      "            j=j+1\n",
      "            k=k+1\n",
      "\n",
      "            \n",
      "def quick(alist):\n",
      "    quickSortHelper(alist,0,len(alist)-1)\n",
      "\n",
      "def quickSortHelper(alist,first,last):\n",
      "    if first<last:\n",
      "\n",
      "        splitpoint = partition(alist,first,last)\n",
      "\n",
      "        quickSortHelper(alist,first,splitpoint-1)\n",
      "        quickSortHelper(alist,splitpoint+1,last)\n",
      "\n",
      "def partition(alist,first,last):\n",
      "    pivotvalue = alist[first]\n",
      "\n",
      "    leftmark = first+1\n",
      "    rightmark = last\n",
      "\n",
      "    done = False\n",
      "    while not done:\n",
      "\n",
      "        while leftmark <= rightmark and alist[leftmark] <= pivotvalue:\n",
      "            leftmark = leftmark + 1\n",
      "\n",
      "        while alist[rightmark] >= pivotvalue and rightmark >= leftmark:\n",
      "            rightmark = rightmark -1\n",
      "\n",
      "        if rightmark < leftmark:\n",
      "            done = True\n",
      "        else:\n",
      "            alist[leftmark],alist[rightmark]=alist[rightmark],alist[leftmark]\n",
      "\n",
      "    alist[first],alist[rightmark]=alist[rightmark],alist[first]\n",
      "\n",
      "    return rightmark"
     ],
     "language": "python",
     "metadata": {},
     "outputs": [],
     "prompt_number": 7
    },
    {
     "cell_type": "heading",
     "level": 3,
     "metadata": {},
     "source": [
      "Set up and tests"
     ]
    },
    {
     "cell_type": "code",
     "collapsed": false,
     "input": [
      "algs = ['bubble', 'insertion', 'selection', 'shell','merge','quick']\n",
      "times = {x:[] for x in algs}\n",
      "\n",
      "for f in algs:\n",
      "    \n",
      "    int_lists = [range(50*y,0,-1) for y in range(1,11)] #set up reverse-sorted lists of increasing size\n",
      "    int_lists_lengths = [len(x) for x in int_lists]\n",
      "    \n",
      "    for li in int_lists:\n",
      "        t = timeit.Timer('%s(li)' %f, 'from __main__ import %s, li' %f).repeat(repeat=3, number=100)\n",
      "        \n",
      "        t_max = max(t)\n",
      "        t_max_transform = log10(1000*t_max) #take log10 of the milliseconds to visually separate the plotted curves\n",
      "        \n",
      "        times[f].append(t_max_transform)\n",
      "\n",
      "times_frame = pd.DataFrame(times)\n",
      "times_frame.insert(0,'list size',int_lists_lengths)"
     ],
     "language": "python",
     "metadata": {},
     "outputs": [],
     "prompt_number": 11
    },
    {
     "cell_type": "heading",
     "level": 3,
     "metadata": {},
     "source": [
      "Results"
     ]
    },
    {
     "cell_type": "code",
     "collapsed": false,
     "input": [
      "print times_frame"
     ],
     "language": "python",
     "metadata": {},
     "outputs": [
      {
       "output_type": "stream",
       "stream": "stdout",
       "text": [
        "   list size    bubble  insertion     merge     quick  selection     shell\n",
        "0         50  1.007534  -0.117510  0.928302  1.078277   0.929619  0.686821\n",
        "1        100  1.419541   0.240306  1.283621  1.611787   1.480986  1.135608\n",
        "2        150  1.754876   0.484754  1.486118  1.944468   1.890109  1.257771\n",
        "3        200  2.000573   0.656185  1.615793  2.180284   2.062390  1.384195\n",
        "4        250  2.195174   0.806802  1.724580  2.378709   2.250047  1.487718\n",
        "5        300  2.363883   0.931466  1.820003  2.537163   2.407041  1.608034\n",
        "6        350  2.516701   1.047428  1.892017  2.655110   2.538953  1.682586\n",
        "7        400  2.631277   1.139531  2.098973  2.771925   2.663629  1.736340\n",
        "8        450  2.728985   1.224326  2.006796  2.869309   2.765640  1.788239\n",
        "9        500  2.813148   1.302503  2.061524  2.973612   2.859182  1.896802\n"
       ]
      }
     ],
     "prompt_number": 12
    },
    {
     "cell_type": "code",
     "collapsed": false,
     "input": [
      "a = ggplot(times_frame, aes(\"list size\",\"bubble\"))+geom_point(color='red') + \\\n",
      "geom_point(aes(\"list size\",\"insertion\"), color = 'orange') + \\\n",
      "geom_point(aes(\"list size\",\"selection\"), color = 'yellow') + \\\n",
      "geom_point(aes(\"list size\", \"shell\"), color = 'green') + \\\n",
      "geom_point(aes(\"list size\", \"merge\"), color = 'blue') + \\\n",
      "geom_point(aes(\"list size\", \"quick\"), color = 'violet') + \\\n",
      "ggtitle(\"sorting benchmarks\") + xlab(\"list size\") + ylab(\"time (log10(msec))\") + \\\n",
      "scale_x_continuous(breaks=int_lists_lengths)\n",
      "a\n",
      "## plotly plot:\n",
      "# import plotly.plotly as py\n",
      "# import plotly.tools as tls\n",
      "# from plotly.graph_objs import *\n",
      "# py.sign_in(\"IPython.Demo\", \"1fw3zw2o13\")\n",
      "# fig = a.draw() \n",
      "# py.iplot_mpl(fig)"
     ],
     "language": "python",
     "metadata": {},
     "outputs": [
      {
       "metadata": {},
       "output_type": "display_data",
       "png": "[encoded data removed]",
       "text": [
        "<matplotlib.figure.Figure at 0x650fe90>"
       ]
      },
      {
       "metadata": {},
       "output_type": "pyout",
       "prompt_number": 13,
       "text": [
        "<ggplot: (6623221)>"
       ]
      }
     ],
     "prompt_number": 13
    },
    {
     "cell_type": "markdown",
     "metadata": {},
     "source": [
      "Insertion sort looks to be the fastest.\n",
      "(the ggplot python library does not yet properly support legends, as of 09/2014)."
     ]
    }
   ],
   "metadata": {}
  }
 ]
}