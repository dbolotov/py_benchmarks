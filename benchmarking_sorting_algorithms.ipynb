{
 "metadata": {
  "name": "",
  "signature": "sha256:8c835a5c488694515b40153eabcd6e769b1b539f76659c19195929912f642d02"
 },
 "nbformat": 3,
 "nbformat_minor": 0,
 "worksheets": [
  {
   "cells": [
    {
     "cell_type": "heading",
     "level": 1,
     "metadata": {},
     "source": [
      "Benchmarking sorting algorithms with ipython"
     ]
    },
    {
     "cell_type": "markdown",
     "metadata": {},
     "source": [
      "Benchmarking a few sorting algorithms using ipython's `timeit` function, with `pandas` and `ggplot` libraries for result presentation.\n",
      "\n",
      "Tests are run on reverse-ordered integer lists of increasing size.\n",
      "\n",
      "The following are tested:\n",
      "\n",
      "- Bubble sort\n",
      "- Selection Sort\n",
      "- Insertion Sort\n",
      "\n",
      "Algorithms are coded as described in this awesome [interactive python course](http://interactivepython.org/runestone/static/pythonds/index.html).\n",
      "\n",
      "```\n",
      "TODO:\n",
      "- Shell Sort\n",
      "- Merge Sort\n",
      "- Quick Sort\n",
      "- get around ggplot's lack of legend support\n",
      "```"
     ]
    },
    {
     "cell_type": "code",
     "collapsed": false,
     "input": [
      "import timeit\n",
      "from ggplot import *\n",
      "import pandas as pd"
     ],
     "language": "python",
     "metadata": {},
     "outputs": [],
     "prompt_number": 1
    },
    {
     "cell_type": "heading",
     "level": 3,
     "metadata": {},
     "source": [
      "Define algorithms"
     ]
    },
    {
     "cell_type": "code",
     "collapsed": false,
     "input": [
      "def bubble(alist):\n",
      "    for passnum in range(len(alist)-1,0,-1):\n",
      "        for i in range(passnum):\n",
      "            if alist[i] > alist[i+1]:\n",
      "                alist[i],alist[i+1] = alist[i+1],alist[i]\n",
      "\n",
      "def insertion(alist):\n",
      "    for index in range(1,len(alist)):\n",
      "        currentvalue = alist[index]\n",
      "        position = index\n",
      "        while position>0 and alist[position-1]>currentvalue:\n",
      "            alist[position] = alist[position-1]\n",
      "            position -= 1\n",
      "        alist[position] = currentvalue\n",
      "\n",
      "def selection(alist):\n",
      "    for fillslot in range(len(alist)-1,0,-1):\n",
      "        positionOfMax=0\n",
      "        for location in range(1,fillslot+1):\n",
      "            if alist[location]>alist[positionOfMax]:\n",
      "                positionOfMax = location\n",
      "        alist[fillslot],alist[positionOfMax] = alist[positionOfMax],alist[fillslot]"
     ],
     "language": "python",
     "metadata": {},
     "outputs": [],
     "prompt_number": 2
    },
    {
     "cell_type": "heading",
     "level": 3,
     "metadata": {},
     "source": [
      "Set up and tests"
     ]
    },
    {
     "cell_type": "code",
     "collapsed": false,
     "input": [
      "algs = ['bubble', 'insertion', 'selection']\n",
      "times = {x:[] for x in algs}\n",
      "\n",
      "int_lists = [range(500*y,0,-1) for y in range(6)]\n",
      "int_lists_lengths = [len(x) for x in int_lists]\n",
      "\n",
      "for li in int_lists:\n",
      "    for f in algs:\n",
      "        times[f].append(min(timeit.Timer('%s(li)' %f, 'from __main__ import %s, li' %f)\n",
      "                            .repeat(repeat=3, number=10)))\n",
      "\n",
      "times_frame = pd.DataFrame(times)\n",
      "times_frame.insert(0,'list size',int_lists_lengths)"
     ],
     "language": "python",
     "metadata": {},
     "outputs": [],
     "prompt_number": 3
    },
    {
     "cell_type": "heading",
     "level": 3,
     "metadata": {},
     "source": [
      "Results"
     ]
    },
    {
     "cell_type": "code",
     "collapsed": false,
     "input": [
      "print times_frame"
     ],
     "language": "python",
     "metadata": {},
     "outputs": [
      {
       "output_type": "stream",
       "stream": "stdout",
       "text": [
        "   list size    bubble  insertion  selection\n",
        "0          0  0.000004   0.000004   0.000004\n",
        "1        500  0.063626   0.000599   0.069874\n",
        "2       1000  0.264235   0.001231   0.282510\n",
        "3       1500  0.610596   0.001869   0.661466\n",
        "4       2000  1.082569   0.002431   1.143139\n",
        "5       2500  1.699899   0.003048   1.828356\n"
       ]
      }
     ],
     "prompt_number": 4
    },
    {
     "cell_type": "code",
     "collapsed": false,
     "input": [
      "a = ggplot(times_frame, aes(\"list size\",\"bubble\"))+geom_point(color='green') + \\\n",
      "geom_point(aes(\"list size\",\"insertion\"), color = 'red') + \\\n",
      "geom_point(aes(\"list size\",\"selection\"), color = 'blue') + \\\n",
      "ggtitle(\"sorting benchmarks\") + xlab(\"list size\") + ylab(\"time (sec)\") + \\\n",
      "scale_x_continuous(breaks=int_lists_lengths)\n",
      "a\n",
      "## plotly plot:\n",
      "# import plotly.plotly as py\n",
      "# import plotly.tools as tls\n",
      "# from plotly.graph_objs import *\n",
      "# py.sign_in(\"IPython.Demo\", \"1fw3zw2o13\")\n",
      "# fig = a.draw() \n",
      "# py.iplot_mpl(fig)"
     ],
     "language": "python",
     "metadata": {},
     "outputs": [
      {
       "metadata": {},
       "output_type": "display_data",
       "png": "[encoded data removed]",
       "text": [
        "<matplotlib.figure.Figure at 0x432b950>"
       ]
      },
      {
       "metadata": {},
       "output_type": "pyout",
       "prompt_number": 5,
       "text": [
        "<ggplot: (5976873)>"
       ]
      }
     ],
     "prompt_number": 5
    },
    {
     "cell_type": "markdown",
     "metadata": {},
     "source": [
      "Looks like insertion sort is the winner so far!"
     ]
    }
   ],
   "metadata": {}
  }
 ]
}